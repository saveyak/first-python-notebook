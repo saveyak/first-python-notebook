{
 "cells": [
  {
   "cell_type": "markdown",
   "metadata": {},
   "source": [
    "# Analysis of California Propositions\n",
    "I wanted to answer the question: does the side with more money always win? "
   ]
  },
  {
   "cell_type": "code",
   "execution_count": 3,
   "metadata": {
    "collapsed": true
   },
   "outputs": [],
   "source": [
    "import pandas as pd"
   ]
  },
  {
   "cell_type": "markdown",
   "metadata": {},
   "source": [
    "First, I imported two data sets. One shows all the committees related to California propositions and the other shows all the financial contributions to these committees."
   ]
  },
  {
   "cell_type": "code",
   "execution_count": 4,
   "metadata": {
    "collapsed": true,
    "scrolled": true
   },
   "outputs": [],
   "source": [
    "props = pd.read_csv(\"http://www.firstpythonnotebook.org/_static/committees.csv\")"
   ]
  },
  {
   "cell_type": "code",
   "execution_count": 5,
   "metadata": {
    "collapsed": true
   },
   "outputs": [],
   "source": [
    "contribs = pd.read_csv(\"http://www.firstpythonnotebook.org/_static/contributions.csv\")"
   ]
  },
  {
   "cell_type": "markdown",
   "metadata": {},
   "source": [
    "I created a variable for each proposition by filtering the dataset for just that proposition."
   ]
  },
  {
   "cell_type": "code",
   "execution_count": 6,
   "metadata": {
    "collapsed": true
   },
   "outputs": [],
   "source": [
    "prop64 = props[props.prop_name == \"PROPOSITION 064- MARIJUANA LEGALIZATION. INITIATIVE STATUTE.\"]\n",
    "prop57 = props[props.prop_name == \"PROPOSITION 057 - CRIMINAL SENTENCES. JUVENILE CRIMINAL PROCEEDINGS AND SENTENCING. INITIATIVE CONSTITUTIONAL AMENDMENT AND STATUTE.\"]\n",
    "prop56 = props[props.prop_name == \"PROPOSITION 056 - CIGARETTE TAX TO FUND HEALTHCARE, TOBACCO USE PREVENTION, RESEARCH, AND LAW ENFORCEMENT. INITIATIVE CONSTITUTIONAL AMENDMENT AND STATUTE.\"]\n",
    "prop66 = props[props.prop_name == \"PROPOSITION 066- DEATH PENALTY. PROCEDURES. INITIATIVE STATUTE.\"]\n",
    "prop55 = props[props.prop_name == \"PROPOSITION 055 - TAX EXTENSION TO FUND EDUCATION AND HEALTHCARE. INITIATIVE CONSTITUTIONAL AMENDMENT.\"]\n",
    "prop67 = props[props.prop_name == \"PROPOSITION 067- REFERENDUM TO OVERTURN BAN ON SINGLE-USE PLASTIC BAGS.\"]\n",
    "prop62 = props[props.prop_name == \"PROPOSITION 062- DEATH PENALTY. INITIATIVE STATUTE.\"]\n",
    "prop59 = props[props.prop_name == \"PROPOSITION 059- SB 254 (CHAPTER 20, STATUTES OF 2016), ALLEN. CAMPAIGN FINANCE: VOTER INSTRUCTION\"]\n",
    "prop53 = props[props.prop_name == \"PROPOSITION 053 - REVENUE BONDS. STATEWIDE VOTER APPROVAL. INITIATIVE CONSTITUTIONAL AMENDMENT.\"]\n",
    "prop54 = props[props.prop_name == \"PROPOSITION 054 - LEGISLATURE. LEGISLATION AND PROCEEDINGS. INITIATIVE CONSTITUTIONAL AMENDMENT AND STATUTE.\"]\n",
    "prop58 = props[props.prop_name == \"PROPOSITION 058 - SB 1174 (CHAPTER 753, STATUTES OF 2014), LARA. ENGLISH LANGUAGE EDUCATION\"]\n",
    "prop63 = props[props.prop_name == \"PROPOSITION 063- FIREARMS. AMMUNITION SALES. INTIATIVE STATUTE.\"]\n",
    "prop51 = props[props.prop_name == \"PROPOSITION 051 - SCHOOL BONDS. FUNDING FOR K-12 SCHOOL AND COMMUNITY COLLEGE FACILITIES. INITIATIVE STATUTORY AMENDMENT.\"]\n",
    "prop52 = props[props.prop_name == \"PROPOSITION 052 - STATE FEES ON HOSPITALS. FEDERAL MEDI-CAL MATCHING FUNDS. INITIATIVE STATUTORY AND CONSTITUTIONAL AMENDMENT.\"]\n",
    "prop61 = props[props.prop_name == \"PROPOSITION 061- STATE PRESCRIPTION DRUG PURCHASES. PRICING STANDARDS. INITIATIVE STATUTE.\"]\n",
    "prop60 = props[props.prop_name == \"PROPOSITION 060- ADULT FILMS. CONDOMS. HEALTH REQUIREMENTS. INITIATIVE STATUTE.\"]\n",
    "prop65 = props[props.prop_name == \"PROPOSITION 065- CARRY-OUT BAGS. CHARGES. INITIATIVE STATUTE.\"]"
   ]
  },
  {
   "cell_type": "markdown",
   "metadata": {},
   "source": [
    "Then I merged the filtered proposition datasets with the contribution dataset."
   ]
  },
  {
   "cell_type": "code",
   "execution_count": 7,
   "metadata": {
    "collapsed": true
   },
   "outputs": [],
   "source": [
    "merged57=pd.merge(prop57, contribs, on=\"calaccess_committee_id\")\n",
    "merged54=pd.merge(prop54, contribs, on=\"calaccess_committee_id\")\n",
    "merged64=pd.merge(prop64, contribs, on=\"calaccess_committee_id\")\n",
    "merged66=pd.merge(prop66, contribs, on=\"calaccess_committee_id\")\n",
    "merged55=pd.merge(prop55, contribs, on=\"calaccess_committee_id\")\n",
    "merged67=pd.merge(prop67, contribs, on=\"calaccess_committee_id\")\n",
    "merged62=pd.merge(prop62, contribs, on=\"calaccess_committee_id\")\n",
    "merged59=pd.merge(prop59, contribs, on=\"calaccess_committee_id\")\n",
    "merged53=pd.merge(prop53, contribs, on=\"calaccess_committee_id\")\n",
    "merged54=pd.merge(prop54, contribs, on=\"calaccess_committee_id\")\n",
    "merged58=pd.merge(prop58, contribs, on=\"calaccess_committee_id\")\n",
    "merged63=pd.merge(prop63, contribs, on=\"calaccess_committee_id\")\n",
    "merged51=pd.merge(prop51, contribs, on=\"calaccess_committee_id\")\n",
    "merged52=pd.merge(prop52, contribs, on=\"calaccess_committee_id\")\n",
    "merged61=pd.merge(prop61, contribs, on=\"calaccess_committee_id\")\n",
    "merged60=pd.merge(prop60, contribs, on=\"calaccess_committee_id\")\n",
    "merged65=pd.merge(prop65, contribs, on=\"calaccess_committee_id\")"
   ]
  },
  {
   "cell_type": "markdown",
   "metadata": {},
   "source": [
    "I filtered the data to just the committees that supported the propositions."
   ]
  },
  {
   "cell_type": "code",
   "execution_count": 9,
   "metadata": {
    "collapsed": true
   },
   "outputs": [],
   "source": [
    "support57 = merged57[merged57.committee_position == \"SUPPORT\"]\n",
    "support54 = merged54[merged54.committee_position == \"SUPPORT\"]\n",
    "support64 = merged64[merged64.committee_position == \"SUPPORT\"]\n",
    "support66 = merged66[merged66.committee_position == \"SUPPORT\"]\n",
    "support55 = merged55[merged55.committee_position == \"SUPPORT\"]\n",
    "support67 = merged67[merged67.committee_position == \"SUPPORT\"]\n",
    "support62 = merged62[merged62.committee_position == \"SUPPORT\"]\n",
    "support59 = merged59[merged59.committee_position == \"SUPPORT\"]\n",
    "support53 = merged53[merged53.committee_position == \"SUPPORT\"]\n",
    "support54 = merged54[merged54.committee_position == \"SUPPORT\"]\n",
    "support58 = merged58[merged58.committee_position == \"SUPPORT\"]\n",
    "support63 = merged63[merged63.committee_position == \"SUPPORT\"]\n",
    "support51 = merged51[merged51.committee_position == \"SUPPORT\"]\n",
    "support52 = merged52[merged52.committee_position == \"SUPPORT\"]\n",
    "support61 = merged61[merged61.committee_position == \"SUPPORT\"]\n",
    "support60 = merged60[merged60.committee_position == \"SUPPORT\"]\n",
    "support65 = merged65[merged65.committee_position == \"SUPPORT\"]"
   ]
  },
  {
   "cell_type": "markdown",
   "metadata": {},
   "source": [
    "Then I calculated what percentage of money donated went to the \"support\" side."
   ]
  },
  {
   "cell_type": "code",
   "execution_count": 10,
   "metadata": {},
   "outputs": [
    {
     "data": {
      "text/plain": [
       "96.06890349028771"
      ]
     },
     "execution_count": 10,
     "metadata": {},
     "output_type": "execute_result"
    }
   ],
   "source": [
    "support57.amount.sum() / merged57.amount.sum() *100\n"
   ]
  },
  {
   "cell_type": "code",
   "execution_count": 11,
   "metadata": {},
   "outputs": [
    {
     "data": {
      "text/plain": [
       "100.0"
      ]
     },
     "execution_count": 11,
     "metadata": {},
     "output_type": "execute_result"
    }
   ],
   "source": [
    "support54.amount.sum() / merged54.amount.sum() *100"
   ]
  },
  {
   "cell_type": "code",
   "execution_count": 12,
   "metadata": {},
   "outputs": [
    {
     "data": {
      "text/plain": [
       "92.889642704798675"
      ]
     },
     "execution_count": 12,
     "metadata": {},
     "output_type": "execute_result"
    }
   ],
   "source": [
    "support64.amount.sum() / merged64.amount.sum() *100"
   ]
  },
  {
   "cell_type": "code",
   "execution_count": 13,
   "metadata": {},
   "outputs": [
    {
     "data": {
      "text/plain": [
       "49.097291768046425"
      ]
     },
     "execution_count": 13,
     "metadata": {},
     "output_type": "execute_result"
    }
   ],
   "source": [
    "support66.amount.sum() / merged66.amount.sum() *100"
   ]
  },
  {
   "cell_type": "code",
   "execution_count": 14,
   "metadata": {},
   "outputs": [
    {
     "data": {
      "text/plain": [
       "100.0"
      ]
     },
     "execution_count": 14,
     "metadata": {},
     "output_type": "execute_result"
    }
   ],
   "source": [
    "support55.amount.sum() / merged55.amount.sum() *100"
   ]
  },
  {
   "cell_type": "code",
   "execution_count": 15,
   "metadata": {},
   "outputs": [
    {
     "data": {
      "text/plain": [
       "40.020828421585236"
      ]
     },
     "execution_count": 15,
     "metadata": {},
     "output_type": "execute_result"
    }
   ],
   "source": [
    "support67.amount.sum() / merged67.amount.sum() *100"
   ]
  },
  {
   "cell_type": "code",
   "execution_count": 16,
   "metadata": {},
   "outputs": [
    {
     "data": {
      "text/plain": [
       "48.727853293472215"
      ]
     },
     "execution_count": 16,
     "metadata": {},
     "output_type": "execute_result"
    }
   ],
   "source": [
    "support62.amount.sum() / merged62.amount.sum() *100\n"
   ]
  },
  {
   "cell_type": "code",
   "execution_count": 17,
   "metadata": {},
   "outputs": [
    {
     "data": {
      "text/plain": [
       "100.0"
      ]
     },
     "execution_count": 17,
     "metadata": {},
     "output_type": "execute_result"
    }
   ],
   "source": [
    "support59.amount.sum() / merged59.amount.sum() *100"
   ]
  },
  {
   "cell_type": "code",
   "execution_count": 18,
   "metadata": {},
   "outputs": [
    {
     "data": {
      "text/plain": [
       "15.666614444618517"
      ]
     },
     "execution_count": 18,
     "metadata": {},
     "output_type": "execute_result"
    }
   ],
   "source": [
    "support53.amount.sum() / merged53.amount.sum() *100"
   ]
  },
  {
   "cell_type": "code",
   "execution_count": 19,
   "metadata": {},
   "outputs": [
    {
     "data": {
      "text/plain": [
       "100.0"
      ]
     },
     "execution_count": 19,
     "metadata": {},
     "output_type": "execute_result"
    }
   ],
   "source": [
    "support54.amount.sum() / merged54.amount.sum() *100"
   ]
  },
  {
   "cell_type": "code",
   "execution_count": 20,
   "metadata": {},
   "outputs": [
    {
     "data": {
      "text/plain": [
       "100.0"
      ]
     },
     "execution_count": 20,
     "metadata": {},
     "output_type": "execute_result"
    }
   ],
   "source": [
    "support58.amount.sum() / merged58.amount.sum() *100"
   ]
  },
  {
   "cell_type": "code",
   "execution_count": 21,
   "metadata": {},
   "outputs": [
    {
     "data": {
      "text/plain": [
       "81.058673990386424"
      ]
     },
     "execution_count": 21,
     "metadata": {},
     "output_type": "execute_result"
    }
   ],
   "source": [
    "support63.amount.sum() / merged63.amount.sum() *100"
   ]
  },
  {
   "cell_type": "code",
   "execution_count": 22,
   "metadata": {},
   "outputs": [
    {
     "data": {
      "text/plain": [
       "100.0"
      ]
     },
     "execution_count": 22,
     "metadata": {},
     "output_type": "execute_result"
    }
   ],
   "source": [
    "support51.amount.sum() / merged51.amount.sum() *100"
   ]
  },
  {
   "cell_type": "code",
   "execution_count": 23,
   "metadata": {},
   "outputs": [
    {
     "data": {
      "text/plain": [
       "78.34187778093866"
      ]
     },
     "execution_count": 23,
     "metadata": {},
     "output_type": "execute_result"
    }
   ],
   "source": [
    "support52.amount.sum() / merged52.amount.sum() *100"
   ]
  },
  {
   "cell_type": "code",
   "execution_count": 24,
   "metadata": {},
   "outputs": [
    {
     "data": {
      "text/plain": [
       "14.843026731491324"
      ]
     },
     "execution_count": 24,
     "metadata": {},
     "output_type": "execute_result"
    }
   ],
   "source": [
    "support61.amount.sum() / merged61.amount.sum() *100"
   ]
  },
  {
   "cell_type": "code",
   "execution_count": 25,
   "metadata": {},
   "outputs": [
    {
     "data": {
      "text/plain": [
       "92.503886454907288"
      ]
     },
     "execution_count": 25,
     "metadata": {},
     "output_type": "execute_result"
    }
   ],
   "source": [
    "support60.amount.sum() / merged60.amount.sum() *100"
   ]
  },
  {
   "cell_type": "code",
   "execution_count": 26,
   "metadata": {},
   "outputs": [
    {
     "data": {
      "text/plain": [
       "100.0"
      ]
     },
     "execution_count": 26,
     "metadata": {},
     "output_type": "execute_result"
    }
   ],
   "source": [
    "support65.amount.sum() / merged65.amount.sum() *100"
   ]
  },
  {
   "cell_type": "code",
   "execution_count": null,
   "metadata": {
    "collapsed": true
   },
   "outputs": [],
   "source": []
  }
 ],
 "metadata": {
  "kernelspec": {
   "display_name": "Python 2",
   "language": "python",
   "name": "python2"
  },
  "language_info": {
   "codemirror_mode": {
    "name": "ipython",
    "version": 2
   },
   "file_extension": ".py",
   "mimetype": "text/x-python",
   "name": "python",
   "nbconvert_exporter": "python",
   "pygments_lexer": "ipython2",
   "version": "2.7.13"
  }
 },
 "nbformat": 4,
 "nbformat_minor": 2
}
